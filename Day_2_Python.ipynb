{
  "nbformat": 4,
  "nbformat_minor": 0,
  "metadata": {
    "colab": {
      "provenance": []
    },
    "kernelspec": {
      "name": "python3",
      "display_name": "Python 3"
    },
    "language_info": {
      "name": "python"
    }
  },
  "cells": [
    {
      "cell_type": "markdown",
      "source": [
        "Tuple ()\n",
        "1. immutable(no changes can be performed)\n",
        "2."
      ],
      "metadata": {
        "id": "2YCkstKlBH6C"
      }
    },
    {
      "cell_type": "code",
      "execution_count": 2,
      "metadata": {
        "id": "fRzyfgfoAqmf"
      },
      "outputs": [],
      "source": [
        "#adding a tuple into a tuple\n",
        "tup=(\"mango\",\"apple\",\"cheery\",\"starwberry\")\n",
        "tupl=(\"pear\",)\n",
        "tup = tup + tupl"
      ]
    },
    {
      "cell_type": "code",
      "source": [
        "tup"
      ],
      "metadata": {
        "colab": {
          "base_uri": "https://localhost:8080/"
        },
        "id": "DvONsnO7Cfe8",
        "outputId": "e1009bdd-7b35-4660-8a77-cb9556615566"
      },
      "execution_count": 3,
      "outputs": [
        {
          "output_type": "execute_result",
          "data": {
            "text/plain": [
              "('mango', 'apple', 'cheery', 'starwberry', 'pear')"
            ]
          },
          "metadata": {},
          "execution_count": 3
        }
      ]
    },
    {
      "cell_type": "code",
      "source": [
        "# count()\n",
        "tu = (1,2,3,45,67,3,5,2,2,2)\n",
        "tu.count(2)"
      ],
      "metadata": {
        "colab": {
          "base_uri": "https://localhost:8080/"
        },
        "id": "demAgiOTCrdR",
        "outputId": "447e57ad-1919-4772-9b7c-deeb69d9faa9"
      },
      "execution_count": 5,
      "outputs": [
        {
          "output_type": "execute_result",
          "data": {
            "text/plain": [
              "4"
            ]
          },
          "metadata": {},
          "execution_count": 5
        }
      ]
    },
    {
      "cell_type": "code",
      "source": [
        "# finding index\n",
        "tu.index(2) #it by default takes the first '2' left-right\n",
        "tu.index(45)"
      ],
      "metadata": {
        "colab": {
          "base_uri": "https://localhost:8080/"
        },
        "id": "kDLvrLdSDMOX",
        "outputId": "74723bfb-8ddc-4cd5-d64b-1c8bec89c756"
      },
      "execution_count": 8,
      "outputs": [
        {
          "output_type": "execute_result",
          "data": {
            "text/plain": [
              "3"
            ]
          },
          "metadata": {},
          "execution_count": 8
        }
      ]
    },
    {
      "cell_type": "markdown",
      "source": [
        "Dictionary {key:value pair}\n",
        "1. pyhton data structure\n",
        "2. mutable -> changable\n",
        "3. ordered"
      ],
      "metadata": {
        "id": "699gGg20ERGV"
      }
    },
    {
      "cell_type": "code",
      "source": [
        "di = {\"fruit\":\"mango\",\"fruit\":\"purvi\"}\n",
        "type(di)"
      ],
      "metadata": {
        "colab": {
          "base_uri": "https://localhost:8080/"
        },
        "id": "Y0SsLuI2DZ81",
        "outputId": "26524079-13a8-4552-cef0-65b9d89559f6"
      },
      "execution_count": 11,
      "outputs": [
        {
          "output_type": "execute_result",
          "data": {
            "text/plain": [
              "dict"
            ]
          },
          "metadata": {},
          "execution_count": 11
        }
      ]
    },
    {
      "cell_type": "code",
      "source": [
        "di #when keys are same it'll always take the last value of the key"
      ],
      "metadata": {
        "colab": {
          "base_uri": "https://localhost:8080/"
        },
        "id": "8j1TMY25FiNZ",
        "outputId": "546dd688-1c05-4448-8230-873893dd4c73"
      },
      "execution_count": 12,
      "outputs": [
        {
          "output_type": "execute_result",
          "data": {
            "text/plain": [
              "{'fruit': 'purvi'}"
            ]
          },
          "metadata": {},
          "execution_count": 12
        }
      ]
    },
    {
      "cell_type": "code",
      "source": [
        "dic = {\"book\":\"knowledge\",\"laptop\":\"elec\",\"pen\":\"an instrument\"}\n"
      ],
      "metadata": {
        "id": "iPNdxbo2Flpn"
      },
      "execution_count": 13,
      "outputs": []
    },
    {
      "cell_type": "code",
      "source": [
        "#CRUD\n",
        "# for accessing the value of key\n",
        "dic[\"book\"] #--> it uses list\n",
        "dic.get(\"book\") #--> it uses dictionary"
      ],
      "metadata": {
        "colab": {
          "base_uri": "https://localhost:8080/",
          "height": 35
        },
        "id": "DHPKkkUgGYI6",
        "outputId": "832fee56-70e6-4fed-c4ae-66019df9d47e"
      },
      "execution_count": 15,
      "outputs": [
        {
          "output_type": "execute_result",
          "data": {
            "text/plain": [
              "'knowledge'"
            ],
            "application/vnd.google.colaboratory.intrinsic+json": {
              "type": "string"
            }
          },
          "metadata": {},
          "execution_count": 15
        }
      ]
    },
    {
      "cell_type": "code",
      "source": [
        "#update --> the updated part will always be added at last of the dictionary\n",
        "dic[\"book\"]=\"Hello World\"  #using list\n",
        "dic"
      ],
      "metadata": {
        "colab": {
          "base_uri": "https://localhost:8080/"
        },
        "id": "1eI9Q3-UGwvN",
        "outputId": "abdbc540-98e1-482a-84fd-0ef0cd25ee12"
      },
      "execution_count": 18,
      "outputs": [
        {
          "output_type": "execute_result",
          "data": {
            "text/plain": [
              "{'book': 'Hello World', 'laptop': 'elec', 'pen': 'an instrument'}"
            ]
          },
          "metadata": {},
          "execution_count": 18
        }
      ]
    },
    {
      "cell_type": "code",
      "source": [
        "#using dictionary concept update()\n",
        "dic.update({\"laptop\":\"Dell\"})\n",
        "dic"
      ],
      "metadata": {
        "colab": {
          "base_uri": "https://localhost:8080/"
        },
        "id": "j7LvSPKwHLEK",
        "outputId": "4c762f4d-c845-41cf-c140-8026ffce116f"
      },
      "execution_count": 19,
      "outputs": [
        {
          "output_type": "execute_result",
          "data": {
            "text/plain": [
              "{'book': 'Hello World', 'laptop': 'Dell', 'pen': 'an instrument'}"
            ]
          },
          "metadata": {},
          "execution_count": 19
        }
      ]
    },
    {
      "cell_type": "code",
      "source": [
        "# remove a dict\n",
        "#remove() ,pop(key/index)\n",
        "dic.pop(\"laptop\", None)\n"
      ],
      "metadata": {
        "id": "QMnE-yHNH7QG"
      },
      "execution_count": 23,
      "outputs": []
    },
    {
      "cell_type": "code",
      "source": [
        "dic"
      ],
      "metadata": {
        "colab": {
          "base_uri": "https://localhost:8080/"
        },
        "id": "u-dzMszzIgqp",
        "outputId": "d6797700-d07d-4a42-caf2-de605f39ca5b"
      },
      "execution_count": 24,
      "outputs": [
        {
          "output_type": "execute_result",
          "data": {
            "text/plain": [
              "{'book': 'Hello World', 'pen': 'an instrument'}"
            ]
          },
          "metadata": {},
          "execution_count": 24
        }
      ]
    },
    {
      "cell_type": "code",
      "source": [
        "# popitem will remove/delete the last element (by default)\n",
        "dic.popitem()"
      ],
      "metadata": {
        "colab": {
          "base_uri": "https://localhost:8080/"
        },
        "id": "4qx9glO9I2At",
        "outputId": "b576f4cb-8d84-4f27-f278-fb1dd384c255"
      },
      "execution_count": 25,
      "outputs": [
        {
          "output_type": "execute_result",
          "data": {
            "text/plain": [
              "('pen', 'an instrument')"
            ]
          },
          "metadata": {},
          "execution_count": 25
        }
      ]
    },
    {
      "cell_type": "code",
      "source": [
        "dic"
      ],
      "metadata": {
        "colab": {
          "base_uri": "https://localhost:8080/"
        },
        "id": "Wrt30cHWJWtw",
        "outputId": "c93dc204-b7c4-4cea-b30d-b29779ce9dd4"
      },
      "execution_count": 26,
      "outputs": [
        {
          "output_type": "execute_result",
          "data": {
            "text/plain": [
              "{'book': 'Hello World'}"
            ]
          },
          "metadata": {},
          "execution_count": 26
        }
      ]
    },
    {
      "cell_type": "code",
      "source": [
        "dic.clear()\n",
        "dic"
      ],
      "metadata": {
        "colab": {
          "base_uri": "https://localhost:8080/"
        },
        "id": "l7qZaNhoJYqJ",
        "outputId": "c1829713-d84c-4c16-877b-b75a5664c5e1"
      },
      "execution_count": 28,
      "outputs": [
        {
          "output_type": "execute_result",
          "data": {
            "text/plain": [
              "{}"
            ]
          },
          "metadata": {},
          "execution_count": 28
        }
      ]
    },
    {
      "cell_type": "code",
      "source": [
        "loop ={\"A\":\"b\",\"B\":\"a\"}\n",
        "loop.values()"
      ],
      "metadata": {
        "colab": {
          "base_uri": "https://localhost:8080/"
        },
        "id": "6jic1CzbK9FT",
        "outputId": "ba6621b2-1560-4b41-d550-06a841af8e45"
      },
      "execution_count": 29,
      "outputs": [
        {
          "output_type": "execute_result",
          "data": {
            "text/plain": [
              "dict_values(['b', 'a'])"
            ]
          },
          "metadata": {},
          "execution_count": 29
        }
      ]
    },
    {
      "cell_type": "code",
      "source": [
        "dix = {\"Cloud\":[\"AWS\",\"GCP\",\"Azure\"]}\n",
        "dix"
      ],
      "metadata": {
        "colab": {
          "base_uri": "https://localhost:8080/"
        },
        "id": "-DfiRnwZLg8T",
        "outputId": "3c3fcca9-b389-40d0-a205-d1e8778b48a1"
      },
      "execution_count": 31,
      "outputs": [
        {
          "output_type": "execute_result",
          "data": {
            "text/plain": [
              "{'Cloud': ['AWS', 'GCP', 'Azure']}"
            ]
          },
          "metadata": {},
          "execution_count": 31
        }
      ]
    },
    {
      "cell_type": "code",
      "source": [
        "dim = {\"Python\":{\"Data\":12,\"yept\":34}}\n",
        "dim"
      ],
      "metadata": {
        "colab": {
          "base_uri": "https://localhost:8080/"
        },
        "id": "qno3eGXGLzks",
        "outputId": "d9f95f47-7dc9-4a8c-cd79-a1635ed3f622"
      },
      "execution_count": 34,
      "outputs": [
        {
          "output_type": "execute_result",
          "data": {
            "text/plain": [
              "{'Python': {'Data': 12, 'yept': 34}}"
            ]
          },
          "metadata": {},
          "execution_count": 34
        }
      ]
    },
    {
      "cell_type": "code",
      "source": [
        "dim[\"Python\"][\"Data\"]  #list concept"
      ],
      "metadata": {
        "colab": {
          "base_uri": "https://localhost:8080/"
        },
        "id": "SsNnjbFbMdv4",
        "outputId": "b72c0301-f606-4e5e-bc90-9d5fe75d0209"
      },
      "execution_count": 35,
      "outputs": [
        {
          "output_type": "execute_result",
          "data": {
            "text/plain": [
              "12"
            ]
          },
          "metadata": {},
          "execution_count": 35
        }
      ]
    },
    {
      "cell_type": "code",
      "source": [
        "dim.get(\"Python\").get(\"Data\")  #dictionary concept"
      ],
      "metadata": {
        "colab": {
          "base_uri": "https://localhost:8080/"
        },
        "id": "QJrgG2bkNCAl",
        "outputId": "fe610888-6591-4e2f-eb19-f0aa6c01f822"
      },
      "execution_count": 37,
      "outputs": [
        {
          "output_type": "execute_result",
          "data": {
            "text/plain": [
              "12"
            ]
          },
          "metadata": {},
          "execution_count": 37
        }
      ]
    }
  ]
}