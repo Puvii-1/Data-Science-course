{
  "nbformat": 4,
  "nbformat_minor": 0,
  "metadata": {
    "colab": {
      "provenance": []
    },
    "kernelspec": {
      "name": "python3",
      "display_name": "Python 3"
    },
    "language_info": {
      "name": "python"
    }
  },
  "cells": [
    {
      "cell_type": "markdown",
      "source": [
        "OOPs (Object Oriented Programming):\n",
        "\n",
        " 1. It is an apparoch that allows you to develop application\n",
        " 2. It focuses on code reusability\n",
        " 3. It uses the concept of classes and object"
      ],
      "metadata": {
        "id": "4d1GrHp22Lgb"
      }
    },
    {
      "cell_type": "markdown",
      "source": [
        "Concepts/Principles of OPPs\n",
        "\n",
        "1. Class\n",
        "2. Object\n",
        "3. Method (Function)\n",
        "\n",
        "*Properties*\n",
        "4. Inheritance\n",
        "5. Data Abstarction\n",
        "6. Polymorphism\n",
        "7. Encapsulatoion"
      ],
      "metadata": {
        "id": "mxtZ_bf53Ljg"
      }
    },
    {
      "cell_type": "code",
      "execution_count": null,
      "metadata": {
        "id": "ZDBrVQJI1xes"
      },
      "outputs": [],
      "source": [
        "#uni -> class\n",
        "#students -> object\n",
        "#dept of the students -> method\n",
        "\n",
        "# Class\n",
        "# syntax :class name_of_the_class():\n",
        "            #statements\n"
      ]
    },
    {
      "cell_type": "code",
      "source": [
        "class First():\n",
        "  def pass_or_fail(self,marks):\n",
        "    if marks>75:\n",
        "      print(\"Pass\")\n",
        "    else:\n",
        "      print(\"Fail\")"
      ],
      "metadata": {
        "id": "1UN4Ed026e7d"
      },
      "execution_count": null,
      "outputs": []
    },
    {
      "cell_type": "code",
      "source": [
        "# Oject -> it is an instance(example) of a class\n",
        "# syntax : object_name = class_name(argument)\n",
        "object_name = First()"
      ],
      "metadata": {
        "id": "VZP_pLV67eq4"
      },
      "execution_count": null,
      "outputs": []
    },
    {
      "cell_type": "code",
      "source": [
        "object_name.pass_or_fail(80)"
      ],
      "metadata": {
        "colab": {
          "base_uri": "https://localhost:8080/"
        },
        "id": "9xJz1bSM8lJ-",
        "outputId": "fc5e9340-4f45-4eba-8861-6e824c6aef39"
      },
      "execution_count": null,
      "outputs": [
        {
          "output_type": "stream",
          "name": "stdout",
          "text": [
            "Pass\n"
          ]
        }
      ]
    },
    {
      "cell_type": "markdown",
      "source": [
        "Scope of Variable\n",
        "\n",
        "\n",
        "1.   Global Variable\n",
        "2.   Local Variable\n",
        "\n"
      ],
      "metadata": {
        "id": "WAW01lus9R1a"
      }
    },
    {
      "cell_type": "code",
      "source": [
        "var = 10 # globa variable (cannot be changed)\n",
        "\n",
        "def random_function(inp):\n",
        "  var = 20 # local variable (can be changed within a function)\n",
        "  print(inp+var)"
      ],
      "metadata": {
        "id": "u5rK7yT78sYk"
      },
      "execution_count": null,
      "outputs": []
    },
    {
      "cell_type": "code",
      "source": [
        "random_function(10)"
      ],
      "metadata": {
        "colab": {
          "base_uri": "https://localhost:8080/"
        },
        "id": "4cVX9QaU9nKq",
        "outputId": "173be6dc-a854-4b7e-d530-285da3e43cb5"
      },
      "execution_count": null,
      "outputs": [
        {
          "output_type": "stream",
          "name": "stdout",
          "text": [
            "30\n"
          ]
        }
      ]
    },
    {
      "cell_type": "code",
      "source": [
        "# if you wan to change a global variables\n",
        "var = 3\n",
        "\n",
        "def rau():\n",
        "  global var\n",
        "  var = var+34\n",
        "  print(var)"
      ],
      "metadata": {
        "id": "0WlYINKu9pSg"
      },
      "execution_count": null,
      "outputs": []
    },
    {
      "cell_type": "code",
      "source": [
        "rau()"
      ],
      "metadata": {
        "colab": {
          "base_uri": "https://localhost:8080/"
        },
        "id": "7SAy4YRoBwbq",
        "outputId": "8b46f9b2-ed9e-4ddc-8290-8c75d0bc857d"
      },
      "execution_count": null,
      "outputs": [
        {
          "output_type": "stream",
          "name": "stdout",
          "text": [
            "37\n"
          ]
        }
      ]
    },
    {
      "cell_type": "code",
      "source": [
        "var =100\n",
        "def func():\n",
        "  var = 20\n",
        "  def fun2():\n",
        "    global var\n",
        "    var = 30\n",
        "    print(f\"Value of var after:{var}\")\n",
        "\n",
        "  print(f\"Value of var after:{var}\")\n",
        "  fun2()"
      ],
      "metadata": {
        "id": "PQpMm0uXBygt"
      },
      "execution_count": null,
      "outputs": []
    },
    {
      "cell_type": "code",
      "source": [
        "func()"
      ],
      "metadata": {
        "colab": {
          "base_uri": "https://localhost:8080/"
        },
        "id": "Zy53n0UPD0F6",
        "outputId": "088974da-7d4d-4c34-d3ea-f187bd286a41"
      },
      "execution_count": null,
      "outputs": [
        {
          "output_type": "stream",
          "name": "stdout",
          "text": [
            "Value of var after:20\n",
            "Value of var after:30\n"
          ]
        }
      ]
    },
    {
      "cell_type": "markdown",
      "source": [
        "Inheritance\n",
        "\n",
        "1.   Single\n",
        "2.   Multiple\n",
        "3.   Multi-level\n",
        "\n"
      ],
      "metadata": {
        "id": "Leva_etHG630"
      }
    },
    {
      "cell_type": "code",
      "source": [
        "class A(): # Base/Parent Class\n",
        "  def write(self):\n",
        "    return \"yes\"\n",
        "\n",
        "class B(): # Derived/Child Class\n",
        "  def write(self):\n",
        "    return \"yes\"\n"
      ],
      "metadata": {
        "id": "MBrSuicFD11G"
      },
      "execution_count": null,
      "outputs": []
    },
    {
      "cell_type": "markdown",
      "source": [
        "1. Single Inheritance (single-level)\n",
        "\n",
        " Derived/child class-> Base/Parent Class"
      ],
      "metadata": {
        "id": "ULOQD4DDJcwT"
      }
    },
    {
      "cell_type": "code",
      "source": [
        "class Animal:\n",
        "  def speak(self):\n",
        "    print(\"Animal is speaking\")\n",
        "\n",
        "class Dog(Animal):\n",
        "  def bark(self):\n",
        "    print(\"Dog is barking\")\n",
        "\n",
        "dog = Dog()\n",
        "dog.speak()\n",
        "dog.bark()"
      ],
      "metadata": {
        "colab": {
          "base_uri": "https://localhost:8080/"
        },
        "id": "JI-NmPn1IGy_",
        "outputId": "c9ec139b-0616-4416-d9cd-bf345f46eb9f"
      },
      "execution_count": null,
      "outputs": [
        {
          "output_type": "stream",
          "name": "stdout",
          "text": [
            "Animal is speaking\n",
            "Dog is barking\n"
          ]
        }
      ]
    },
    {
      "cell_type": "markdown",
      "source": [
        "Multi-level Inheritance (grp of single inheritance)"
      ],
      "metadata": {
        "id": "N084YQ7EL1-Z"
      }
    },
    {
      "cell_type": "code",
      "source": [
        "class Animal:\n",
        "  def speak(self):\n",
        "    print(\"Animal is speaking\")\n",
        "\n",
        "class Dog(Animal):\n",
        "  def bark(self):\n",
        "    print(\"Dog is barking\")\n",
        "\n",
        "class Labrador(Dog):\n",
        "  def fetch(self):\n",
        "    print(\"Labrador is fetching\")\n",
        "\n",
        "labrador = Labrador()\n",
        "labrador.speak()\n",
        "labrador.bark()\n",
        "labrador.fetch()"
      ],
      "metadata": {
        "colab": {
          "base_uri": "https://localhost:8080/"
        },
        "id": "2QV0aP_pJz61",
        "outputId": "51df3faa-cb6b-4a8b-a307-ad5192fa1729"
      },
      "execution_count": null,
      "outputs": [
        {
          "output_type": "stream",
          "name": "stdout",
          "text": [
            "Animal is speaking\n",
            "Dog is barking\n",
            "Labrador is fetching\n"
          ]
        }
      ]
    },
    {
      "cell_type": "markdown",
      "source": [
        "Multiple Inheritance"
      ],
      "metadata": {
        "id": "26yNU_83O5En"
      }
    },
    {
      "cell_type": "code",
      "source": [
        "# multiple inheritance\n",
        "class Animal: # parent class\n",
        "  def speak(self):\n",
        "    print(\"Animal is speaking\")\n",
        "\n",
        "class Dog: # parent class\n",
        "  def bark(self):\n",
        "    print(\"Dog is barking\")\n",
        "\n",
        "class Labrador(Animal,Dog): #derived\n",
        "  def eat(self):\n",
        "    print(\"Labrador is eating\")"
      ],
      "metadata": {
        "id": "akyTKWBwNMGk"
      },
      "execution_count": null,
      "outputs": []
    },
    {
      "cell_type": "code",
      "source": [
        "obj = Labrador()\n",
        "obj.speak()\n",
        "obj.bark()\n",
        "obj.eat()"
      ],
      "metadata": {
        "colab": {
          "base_uri": "https://localhost:8080/"
        },
        "id": "cv5WMaVnQXde",
        "outputId": "ee8443ed-8a4d-4de2-ccc8-422ee0f74272"
      },
      "execution_count": null,
      "outputs": [
        {
          "output_type": "stream",
          "name": "stdout",
          "text": [
            "Animal is speaking\n",
            "Dog is barking\n",
            "Labrador is eating\n"
          ]
        }
      ]
    },
    {
      "cell_type": "markdown",
      "source": [
        "Method Overriding"
      ],
      "metadata": {
        "id": "d9Gt1nbTT2jG"
      }
    },
    {
      "cell_type": "code",
      "source": [
        "class Animal:\n",
        "  def speak(self):\n",
        "    return 10\n",
        "\n",
        "class Dog(Animal):\n",
        "  def speak(self):\n",
        "    return 20\n",
        "\n",
        "class Cat(Animal):\n",
        "  def speak(self):\n",
        "    return 30\n",
        "obj1= Animal()\n",
        "obj2 = Dog()\n",
        "obj3 = Cat()\n"
      ],
      "metadata": {
        "id": "WlHNrXf5T49h"
      },
      "execution_count": null,
      "outputs": []
    },
    {
      "cell_type": "code",
      "source": [
        "obj1.speak()"
      ],
      "metadata": {
        "colab": {
          "base_uri": "https://localhost:8080/"
        },
        "id": "XUh5MyLWUj1O",
        "outputId": "f80c8b78-63f5-41a8-9905-a534fe2447cf"
      },
      "execution_count": null,
      "outputs": [
        {
          "output_type": "execute_result",
          "data": {
            "text/plain": [
              "10"
            ]
          },
          "metadata": {},
          "execution_count": 22
        }
      ]
    },
    {
      "cell_type": "code",
      "source": [],
      "metadata": {
        "id": "yzSB8fsXUmSU"
      },
      "execution_count": null,
      "outputs": []
    }
  ]
}