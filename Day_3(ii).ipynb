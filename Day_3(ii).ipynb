{
  "nbformat": 4,
  "nbformat_minor": 0,
  "metadata": {
    "colab": {
      "provenance": []
    },
    "kernelspec": {
      "name": "python3",
      "display_name": "Python 3"
    },
    "language_info": {
      "name": "python"
    }
  },
  "cells": [
    {
      "cell_type": "markdown",
      "source": [
        "Conditional Statements"
      ],
      "metadata": {
        "id": "P6S7p9d5gi_t"
      }
    },
    {
      "cell_type": "code",
      "execution_count": null,
      "metadata": {
        "colab": {
          "base_uri": "https://localhost:8080/"
        },
        "id": "kIpRPlL3gbBB",
        "outputId": "8a55280d-6504-4a69-e843-6d6114afbaa3"
      },
      "outputs": [
        {
          "output_type": "stream",
          "name": "stdout",
          "text": [
            "b is greater than a\n"
          ]
        },
        {
          "output_type": "execute_result",
          "data": {
            "text/plain": [
              "True"
            ]
          },
          "metadata": {},
          "execution_count": 2
        }
      ],
      "source": [
        "a = 33\n",
        "b = 200\n",
        "if b > a:\n",
        "    print(\"b is greater than a\")\n",
        "\n",
        "# a is equal to b\n",
        "#a == b\n",
        "\n",
        "# a is not equal to b\n",
        "#a != b\n",
        "\n",
        "# a is greater than equal to b\n",
        "#a >= b\n",
        "\n",
        "# a is less than  euqal to b\n",
        "#a <= b"
      ]
    },
    {
      "cell_type": "code",
      "source": [
        "# Italy vs England\n",
        "#if England wins -> i'm getting 5000 extra\n",
        "#if Italy wins -> chores\n",
        "teams = [\"Italy\", \"England\"]\n",
        "italy = \"Italy\"\n",
        "england = \"England\"\n",
        "winner = \"Italy\"\n",
        "if winner == england:\n",
        "  print(\"You et 5000 extra\")\n",
        "else:\n",
        "  print(\"Chores\")"
      ],
      "metadata": {
        "colab": {
          "base_uri": "https://localhost:8080/"
        },
        "id": "1CPiE_9fiZ_k",
        "outputId": "720f7044-b3dd-46aa-99de-c2a70b8b717f"
      },
      "execution_count": null,
      "outputs": [
        {
          "output_type": "stream",
          "name": "stdout",
          "text": [
            "Chores\n"
          ]
        }
      ]
    },
    {
      "cell_type": "code",
      "source": [
        "amount = int(input(\"Enter amount: \"))\n",
        "#try except\n",
        " # amount = int(amount) alternative for int(input())\n",
        "if amount < 100:\n",
        "  print(\" I'm going to buy snacks\")\n",
        "elif amount == 100:\n",
        "  print(\" I'm going to buy power rangers trump cards\")\n",
        "elif amount > 100 :\n",
        "  print(\" I'm going to buy a remote control car\")\n",
        "else:\n",
        "  print(\"I'm going to cryyyy!!\")\n"
      ],
      "metadata": {
        "colab": {
          "base_uri": "https://localhost:8080/"
        },
        "id": "psf8fqLkjUFu",
        "outputId": "5295091c-99fc-4cc7-c63d-80fec79a1627"
      },
      "execution_count": null,
      "outputs": [
        {
          "output_type": "stream",
          "name": "stdout",
          "text": [
            "Enter amount: 650\n",
            " I'm going to buy a remote control car\n"
          ]
        }
      ]
    },
    {
      "cell_type": "code",
      "source": [
        "stri = \"hello world\"\n",
        "stripop = stri.strip()\n",
        "try:\n",
        "  if stripop:\n",
        "    print(\"hello world\")\n",
        "except:\n",
        "  print(\"bbye worls\")"
      ],
      "metadata": {
        "colab": {
          "base_uri": "https://localhost:8080/"
        },
        "id": "-bXDHZ42lkc4",
        "outputId": "d9f86f6f-730a-4349-b67b-2d4648d9f337"
      },
      "execution_count": null,
      "outputs": [
        {
          "output_type": "stream",
          "name": "stdout",
          "text": [
            "hello world\n"
          ]
        }
      ]
    },
    {
      "cell_type": "code",
      "source": [
        "list =[\"Mr. Bean\",\"Tom & Jerry\",\"Bob the Builder\",\"Doraemon\"]\n",
        "if \"Doraemon\"in list:\n",
        "  print(\"Yes it is\")\n",
        "elif \"Oswald\" not in list:\n",
        "  list.append(\"Oswald\")"
      ],
      "metadata": {
        "colab": {
          "base_uri": "https://localhost:8080/"
        },
        "id": "ABjC228oqapT",
        "outputId": "41f5a7d6-af3c-42b8-cc6e-2b3701a37134"
      },
      "execution_count": null,
      "outputs": [
        {
          "output_type": "stream",
          "name": "stdout",
          "text": [
            "Yes it is\n"
          ]
        }
      ]
    },
    {
      "cell_type": "code",
      "source": [
        "list"
      ],
      "metadata": {
        "colab": {
          "base_uri": "https://localhost:8080/"
        },
        "id": "1Q7i2yUEryf9",
        "outputId": "b9c84af5-f368-4730-8daa-7671867ff55f"
      },
      "execution_count": null,
      "outputs": [
        {
          "output_type": "execute_result",
          "data": {
            "text/plain": [
              "['Mr. Bean', 'Tom & Jerry', 'Bob the Builder', 'Oswald']"
            ]
          },
          "metadata": {},
          "execution_count": 10
        }
      ]
    },
    {
      "cell_type": "code",
      "source": [
        "inp = input(\"Enter a name: \")\n",
        "\n",
        "if inp.isnumeric():\n",
        "  print(\"Sorry, try again\")\n",
        "elif inp.isalpha():\n",
        "  print(\"You are good to go\")\n",
        "else:\n",
        "  print(\"Drop off from the college\")"
      ],
      "metadata": {
        "colab": {
          "base_uri": "https://localhost:8080/"
        },
        "id": "Z4cVguDzr1MH",
        "outputId": "dc757b62-b102-4e3e-aa2b-b7419fb525c9"
      },
      "execution_count": null,
      "outputs": [
        {
          "output_type": "stream",
          "name": "stdout",
          "text": [
            "Enter a name: Purvi21\n",
            "Drop off from the college\n"
          ]
        }
      ]
    },
    {
      "cell_type": "code",
      "source": [],
      "metadata": {
        "id": "olEmDOuYtwqH"
      },
      "execution_count": null,
      "outputs": []
    }
  ]
}