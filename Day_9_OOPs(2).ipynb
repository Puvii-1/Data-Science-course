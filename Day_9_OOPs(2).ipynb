{
  "nbformat": 4,
  "nbformat_minor": 0,
  "metadata": {
    "colab": {
      "provenance": []
    },
    "kernelspec": {
      "name": "python3",
      "display_name": "Python 3"
    },
    "language_info": {
      "name": "python"
    }
  },
  "cells": [
    {
      "cell_type": "markdown",
      "source": [
        "Constructors"
      ],
      "metadata": {
        "id": "ceA_PM_KaaOr"
      }
    },
    {
      "cell_type": "code",
      "execution_count": null,
      "metadata": {
        "id": "wCv4f1XbWtc6"
      },
      "outputs": [],
      "source": [
        "class Animal:\n",
        "\n",
        "  def __init__(self,sound,activity): #body of constructor\n",
        "    self.animal = activity\n",
        "    self.sound = sound #instance ariable (local variable)\n",
        "    self.activity = activity\n",
        "  def speak(self):\n",
        "    print(f\"The {self.animal} says {self.sound}\")\n",
        "\n",
        "  def speak1(self):\n",
        "    print(f\"The {self.animal} is  {self.activity}\")"
      ]
    },
    {
      "cell_type": "code",
      "source": [
        "obj = Animal(\"Meoww\",\"Cat\")\n",
        "odj1 = Animal(\"Bark\",'Dog')"
      ],
      "metadata": {
        "id": "psXdPHFJbdLR"
      },
      "execution_count": null,
      "outputs": []
    },
    {
      "cell_type": "code",
      "source": [
        "obj.speak(\"Meowww\",\"Cat\")"
      ],
      "metadata": {
        "colab": {
          "base_uri": "https://localhost:8080/"
        },
        "id": "9stLkNisbjqA",
        "outputId": "9328409e-6305-4bf4-b18a-e87293ce15a7"
      },
      "execution_count": null,
      "outputs": [
        {
          "output_type": "stream",
          "name": "stdout",
          "text": [
            "The Cat says Meowww\n"
          ]
        }
      ]
    },
    {
      "cell_type": "code",
      "source": [
        "odj1.speak1(\"Dog\",\"eating\")"
      ],
      "metadata": {
        "colab": {
          "base_uri": "https://localhost:8080/"
        },
        "id": "HC6L0ZWSb13U",
        "outputId": "37d03f2c-c5d1-4387-fbcf-a5259d23c70d"
      },
      "execution_count": null,
      "outputs": [
        {
          "output_type": "stream",
          "name": "stdout",
          "text": [
            "The Dog is  eating\n"
          ]
        }
      ]
    },
    {
      "cell_type": "code",
      "source": [
        "obj.speak()"
      ],
      "metadata": {
        "colab": {
          "base_uri": "https://localhost:8080/"
        },
        "id": "dHThalTjceR6",
        "outputId": "99319a8b-8d6c-43db-8a31-79d2451c46ee"
      },
      "execution_count": null,
      "outputs": [
        {
          "output_type": "stream",
          "name": "stdout",
          "text": [
            "The Cat says Meoww\n"
          ]
        }
      ]
    },
    {
      "cell_type": "code",
      "source": [
        "class Electronics:\n",
        "  def __init__(self,brand,model,price):\n",
        "    self.brand = brand\n",
        "    self.model = model\n",
        "    self.price = price\n",
        "    print(f\"The {self.brand} {self.model} is {self.price}\")\n",
        "\n",
        "  def __init__(self,speaker,microphone):\n",
        "    self.speaker = speaker\n",
        "    self.microphone = microphone\n",
        "    print(f\"The {self.speaker} and {self.microphone}\")\n"
      ],
      "metadata": {
        "id": "7hI08Uq8fuLu"
      },
      "execution_count": null,
      "outputs": []
    },
    {
      "cell_type": "code",
      "source": [
        "obj = Electronics(\"Apple\",\"iphone16\") # giving priority tothe latest method"
      ],
      "metadata": {
        "colab": {
          "base_uri": "https://localhost:8080/"
        },
        "id": "ITsv5QW_g6PY",
        "outputId": "0f677f19-b8a8-4f2d-d558-3a25cee85be6"
      },
      "execution_count": null,
      "outputs": [
        {
          "output_type": "stream",
          "name": "stdout",
          "text": [
            "The Apple and iphone16\n"
          ]
        }
      ]
    },
    {
      "cell_type": "code",
      "source": [
        "class xyz:\n",
        "  a = 0\n",
        "  def __init__(self,a):\n",
        "    self.a= a\n",
        "    print(self.a)\n",
        "    self.a+=1\n",
        "\n",
        "  def abcd(self):\n",
        "    print(self.a)"
      ],
      "metadata": {
        "id": "djiqYR3vhFnu"
      },
      "execution_count": null,
      "outputs": []
    },
    {
      "cell_type": "code",
      "source": [
        "obj1=xyz(0)"
      ],
      "metadata": {
        "colab": {
          "base_uri": "https://localhost:8080/"
        },
        "id": "8TYjuQI-iAat",
        "outputId": "581b0894-1032-494f-80ea-c18c0990ea85"
      },
      "execution_count": null,
      "outputs": [
        {
          "output_type": "stream",
          "name": "stdout",
          "text": [
            "0\n"
          ]
        }
      ]
    },
    {
      "cell_type": "code",
      "source": [
        "obj1.abcd()"
      ],
      "metadata": {
        "colab": {
          "base_uri": "https://localhost:8080/"
        },
        "id": "kdrPyJGOiLFS",
        "outputId": "730e537b-b6f6-4cea-d492-d79c29a448dd"
      },
      "execution_count": null,
      "outputs": [
        {
          "output_type": "stream",
          "name": "stdout",
          "text": [
            "1\n"
          ]
        }
      ]
    },
    {
      "cell_type": "code",
      "source": [
        "class Employee:\n",
        "  a =0\n",
        "  def __call__(self,fname,Lname,salary):\n",
        "    self.fname = fname\n",
        "    self.Lname = Lname\n",
        "    self.salary = salary\n",
        "    self.a = self.a + 1\n",
        "    print(self.a)\n"
      ],
      "metadata": {
        "id": "EGiqj5AvlM4J"
      },
      "execution_count": null,
      "outputs": []
    },
    {
      "cell_type": "code",
      "source": [
        "obj = Employee()"
      ],
      "metadata": {
        "id": "DEMEX-gJore8"
      },
      "execution_count": null,
      "outputs": []
    },
    {
      "cell_type": "code",
      "source": [
        "obj=(\"John\",\"Doe\",50000)"
      ],
      "metadata": {
        "id": "WwR0p6QqozR6"
      },
      "execution_count": null,
      "outputs": []
    },
    {
      "cell_type": "code",
      "source": [
        "class Student:\n",
        "  a=4\n",
        "  def __init__(self,num):\n",
        "    self.num = num\n",
        "\n",
        "  def faul(self):\n",
        "    print(self.num*self.a)"
      ],
      "metadata": {
        "id": "NSXSLjVNqQLh"
      },
      "execution_count": null,
      "outputs": []
    },
    {
      "cell_type": "code",
      "source": [
        "obj = Student(4)"
      ],
      "metadata": {
        "id": "c-hkjNxeqans"
      },
      "execution_count": null,
      "outputs": []
    },
    {
      "cell_type": "code",
      "source": [
        "obj.faul()"
      ],
      "metadata": {
        "colab": {
          "base_uri": "https://localhost:8080/"
        },
        "id": "09B6BNoZr6Gm",
        "outputId": "fe66eb1e-6ab5-404b-ab4c-7d6b898debdd"
      },
      "execution_count": null,
      "outputs": [
        {
          "output_type": "stream",
          "name": "stdout",
          "text": [
            "16\n"
          ]
        }
      ]
    },
    {
      "cell_type": "markdown",
      "source": [
        "Destructor"
      ],
      "metadata": {
        "id": "XDOL1w_ptW3w"
      }
    },
    {
      "cell_type": "code",
      "source": [
        "class Bion:\n",
        "  def __init__(self):\n",
        "    print(\"Over here, the constructor is initialized\")\n",
        "\n",
        "  def __del__(self):\n",
        "    print(\"Over here, the destructor is initiated\")"
      ],
      "metadata": {
        "id": "IAb8MrRfr8OK"
      },
      "execution_count": null,
      "outputs": []
    },
    {
      "cell_type": "code",
      "source": [
        "obj = Bion()"
      ],
      "metadata": {
        "colab": {
          "base_uri": "https://localhost:8080/"
        },
        "id": "nn1agkUAtzY7",
        "outputId": "186e6cb5-07ff-48d6-9576-b63f03774909"
      },
      "execution_count": null,
      "outputs": [
        {
          "output_type": "stream",
          "name": "stdout",
          "text": [
            "Over here, the constructor is initialized\n",
            "Over here, the destructor is initiated\n"
          ]
        }
      ]
    },
    {
      "cell_type": "markdown",
      "source": [
        "Data Abstarction & Encapsulation"
      ],
      "metadata": {
        "id": "0EXFfIG6yWqZ"
      }
    },
    {
      "cell_type": "code",
      "source": [
        "class M:\n",
        "  __a=10\n",
        "  def speak(self):\n",
        "    print(f\"The value of __a is {M.__a}\") # to access __a"
      ],
      "metadata": {
        "id": "iZ981PFWtvn8"
      },
      "execution_count": null,
      "outputs": []
    },
    {
      "cell_type": "code",
      "source": [
        "obj = M()"
      ],
      "metadata": {
        "id": "UVSs27-31ygu"
      },
      "execution_count": null,
      "outputs": []
    },
    {
      "cell_type": "code",
      "source": [
        "obj.speak()"
      ],
      "metadata": {
        "colab": {
          "base_uri": "https://localhost:8080/"
        },
        "id": "JIDB7H6611Tn",
        "outputId": "bb6eeeea-a7ae-42a3-acca-18dae975ccb7"
      },
      "execution_count": null,
      "outputs": [
        {
          "output_type": "stream",
          "name": "stdout",
          "text": [
            "The value of __a is 10\n"
          ]
        }
      ]
    }
  ]
}