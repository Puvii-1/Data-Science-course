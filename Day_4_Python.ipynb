{
  "nbformat": 4,
  "nbformat_minor": 0,
  "metadata": {
    "colab": {
      "provenance": []
    },
    "kernelspec": {
      "name": "python3",
      "display_name": "Python 3"
    },
    "language_info": {
      "name": "python"
    }
  },
  "cells": [
    {
      "cell_type": "markdown",
      "source": [
        "Loops\n",
        "1. loops -> for & while\n",
        "2.  nested loops & nested conditional statements\n",
        "3. list comprehension\n",
        "4. automation libraries -> selenium & pyautogui(position and screen)\n",
        "5. data collection -> scrapping & automation\n",
        "6. Zip, complexities"
      ],
      "metadata": {
        "id": "yGLXDXlUYRhI"
      }
    },
    {
      "cell_type": "code",
      "execution_count": null,
      "metadata": {
        "id": "SOog4QWwWxcj"
      },
      "outputs": [],
      "source": [
        "#for i in range(#start,#stop,#skip):  # i =iterating variable\n",
        "  #statement                       # 'for' is a keyword\n",
        "#for i in range(0,10):\n",
        "  #print(i) #output will be 0 to 9 excluding 10"
      ]
    },
    {
      "cell_type": "code",
      "source": [
        "for i in range(41,51):\n",
        "  if i == 48:\n",
        "    print(\"Yes we've have done it\")\n",
        "  else:\n",
        "    print(i)"
      ],
      "metadata": {
        "colab": {
          "base_uri": "https://localhost:8080/"
        },
        "id": "qO8vJpaidekA",
        "outputId": "2b53de40-12f0-47e4-c053-99ca85c212b3"
      },
      "execution_count": null,
      "outputs": [
        {
          "output_type": "stream",
          "name": "stdout",
          "text": [
            "41\n",
            "42\n",
            "43\n",
            "44\n",
            "45\n",
            "46\n",
            "47\n",
            "Yes we've have done it\n",
            "49\n",
            "50\n"
          ]
        }
      ]
    },
    {
      "cell_type": "code",
      "source": [
        "count = 0\n",
        "while count < 10:\n",
        "  count += 1\n",
        "  print(\"Hello World\")\n",
        "\n"
      ],
      "metadata": {
        "colab": {
          "base_uri": "https://localhost:8080/"
        },
        "id": "WZlCR2jhfOrv",
        "outputId": "6edb0bb8-c7cd-4213-8f4d-40420aa0fbd2"
      },
      "execution_count": null,
      "outputs": [
        {
          "output_type": "stream",
          "name": "stdout",
          "text": [
            "Hello World\n",
            "Hello World\n",
            "Hello World\n",
            "Hello World\n",
            "Hello World\n",
            "Hello World\n",
            "Hello World\n",
            "Hello World\n",
            "Hello World\n",
            "Hello World\n"
          ]
        }
      ]
    },
    {
      "cell_type": "code",
      "source": [
        "count = 15\n",
        "while count > 10:\n",
        "  count -= 1\n",
        "  print(\"What's the output?\")\n",
        "else:\n",
        "  print(\"This is else\")"
      ],
      "metadata": {
        "colab": {
          "base_uri": "https://localhost:8080/"
        },
        "id": "1DhUVf0Yfyty",
        "outputId": "b60142ab-9a49-40be-ecd3-cba1a26019a2"
      },
      "execution_count": null,
      "outputs": [
        {
          "output_type": "stream",
          "name": "stdout",
          "text": [
            "What's the output?\n",
            "What's the output?\n",
            "What's the output?\n",
            "What's the output?\n",
            "What's the output?\n",
            "This is else\n"
          ]
        }
      ]
    },
    {
      "cell_type": "code",
      "source": [
        "#\"I won't be chatting in the class\"\n",
        "for i in range(0,100):\n",
        "  print(\"I won't be chatting in the class\")"
      ],
      "metadata": {
        "colab": {
          "base_uri": "https://localhost:8080/"
        },
        "id": "PBUaZIofgvIl",
        "outputId": "0a2b8653-81a9-4b23-8aa9-6106f30572d0"
      },
      "execution_count": null,
      "outputs": [
        {
          "output_type": "stream",
          "name": "stdout",
          "text": [
            "I won't be chatting in the class\n",
            "I won't be chatting in the class\n",
            "I won't be chatting in the class\n",
            "I won't be chatting in the class\n",
            "I won't be chatting in the class\n",
            "I won't be chatting in the class\n",
            "I won't be chatting in the class\n",
            "I won't be chatting in the class\n",
            "I won't be chatting in the class\n",
            "I won't be chatting in the class\n",
            "I won't be chatting in the class\n",
            "I won't be chatting in the class\n",
            "I won't be chatting in the class\n",
            "I won't be chatting in the class\n",
            "I won't be chatting in the class\n",
            "I won't be chatting in the class\n",
            "I won't be chatting in the class\n",
            "I won't be chatting in the class\n",
            "I won't be chatting in the class\n",
            "I won't be chatting in the class\n",
            "I won't be chatting in the class\n",
            "I won't be chatting in the class\n",
            "I won't be chatting in the class\n",
            "I won't be chatting in the class\n",
            "I won't be chatting in the class\n",
            "I won't be chatting in the class\n",
            "I won't be chatting in the class\n",
            "I won't be chatting in the class\n",
            "I won't be chatting in the class\n",
            "I won't be chatting in the class\n",
            "I won't be chatting in the class\n",
            "I won't be chatting in the class\n",
            "I won't be chatting in the class\n",
            "I won't be chatting in the class\n",
            "I won't be chatting in the class\n",
            "I won't be chatting in the class\n",
            "I won't be chatting in the class\n",
            "I won't be chatting in the class\n",
            "I won't be chatting in the class\n",
            "I won't be chatting in the class\n",
            "I won't be chatting in the class\n",
            "I won't be chatting in the class\n",
            "I won't be chatting in the class\n",
            "I won't be chatting in the class\n",
            "I won't be chatting in the class\n",
            "I won't be chatting in the class\n",
            "I won't be chatting in the class\n",
            "I won't be chatting in the class\n",
            "I won't be chatting in the class\n",
            "I won't be chatting in the class\n",
            "I won't be chatting in the class\n",
            "I won't be chatting in the class\n",
            "I won't be chatting in the class\n",
            "I won't be chatting in the class\n",
            "I won't be chatting in the class\n",
            "I won't be chatting in the class\n",
            "I won't be chatting in the class\n",
            "I won't be chatting in the class\n",
            "I won't be chatting in the class\n",
            "I won't be chatting in the class\n",
            "I won't be chatting in the class\n",
            "I won't be chatting in the class\n",
            "I won't be chatting in the class\n",
            "I won't be chatting in the class\n",
            "I won't be chatting in the class\n",
            "I won't be chatting in the class\n",
            "I won't be chatting in the class\n",
            "I won't be chatting in the class\n",
            "I won't be chatting in the class\n",
            "I won't be chatting in the class\n",
            "I won't be chatting in the class\n",
            "I won't be chatting in the class\n",
            "I won't be chatting in the class\n",
            "I won't be chatting in the class\n",
            "I won't be chatting in the class\n",
            "I won't be chatting in the class\n",
            "I won't be chatting in the class\n",
            "I won't be chatting in the class\n",
            "I won't be chatting in the class\n",
            "I won't be chatting in the class\n",
            "I won't be chatting in the class\n",
            "I won't be chatting in the class\n",
            "I won't be chatting in the class\n",
            "I won't be chatting in the class\n",
            "I won't be chatting in the class\n",
            "I won't be chatting in the class\n",
            "I won't be chatting in the class\n",
            "I won't be chatting in the class\n",
            "I won't be chatting in the class\n",
            "I won't be chatting in the class\n",
            "I won't be chatting in the class\n",
            "I won't be chatting in the class\n",
            "I won't be chatting in the class\n",
            "I won't be chatting in the class\n",
            "I won't be chatting in the class\n",
            "I won't be chatting in the class\n",
            "I won't be chatting in the class\n",
            "I won't be chatting in the class\n",
            "I won't be chatting in the class\n",
            "I won't be chatting in the class\n"
          ]
        }
      ]
    },
    {
      "cell_type": "code",
      "source": [
        "arr =[]\n",
        "a = int(input())\n",
        "b = int(input())\n",
        "for i in range(a,b):\n",
        "  arr.append(i)\n",
        "print(arr)"
      ],
      "metadata": {
        "colab": {
          "base_uri": "https://localhost:8080/"
        },
        "id": "0LVpHflNiKBK",
        "outputId": "bbe951cf-9cd2-4685-e17d-84c09fc2de92"
      },
      "execution_count": null,
      "outputs": [
        {
          "output_type": "stream",
          "name": "stdout",
          "text": [
            "11\n",
            "23\n",
            "[11, 12, 13, 14, 15, 16, 17, 18, 19, 20, 21, 22]\n"
          ]
        }
      ]
    },
    {
      "cell_type": "code",
      "source": [
        "# brr = [statement for loop]\n",
        "# brr =[statement for loop if condition]\n",
        "# brr =[statement if condition else condition for loop]\n",
        "brr = [i for i in range(0,100) if i%2 == 0]"
      ],
      "metadata": {
        "id": "OAn01VbykO9o"
      },
      "execution_count": null,
      "outputs": []
    },
    {
      "cell_type": "code",
      "source": [
        "brr"
      ],
      "metadata": {
        "colab": {
          "base_uri": "https://localhost:8080/"
        },
        "id": "qW0vFhBelM1I",
        "outputId": "e48d36d9-55e3-488e-c7eb-a6a985c5a39c"
      },
      "execution_count": null,
      "outputs": [
        {
          "output_type": "execute_result",
          "data": {
            "text/plain": [
              "[0,\n",
              " 2,\n",
              " 4,\n",
              " 6,\n",
              " 8,\n",
              " 10,\n",
              " 12,\n",
              " 14,\n",
              " 16,\n",
              " 18,\n",
              " 20,\n",
              " 22,\n",
              " 24,\n",
              " 26,\n",
              " 28,\n",
              " 30,\n",
              " 32,\n",
              " 34,\n",
              " 36,\n",
              " 38,\n",
              " 40,\n",
              " 42,\n",
              " 44,\n",
              " 46,\n",
              " 48,\n",
              " 50,\n",
              " 52,\n",
              " 54,\n",
              " 56,\n",
              " 58,\n",
              " 60,\n",
              " 62,\n",
              " 64,\n",
              " 66,\n",
              " 68,\n",
              " 70,\n",
              " 72,\n",
              " 74,\n",
              " 76,\n",
              " 78,\n",
              " 80,\n",
              " 82,\n",
              " 84,\n",
              " 86,\n",
              " 88,\n",
              " 90,\n",
              " 92,\n",
              " 94,\n",
              " 96,\n",
              " 98]"
            ]
          },
          "metadata": {},
          "execution_count": 13
        }
      ]
    },
    {
      "cell_type": "code",
      "source": [
        "brr = [i for i in range(0,100) if i%2 == 1]"
      ],
      "metadata": {
        "id": "6jg1yLyzmhNh"
      },
      "execution_count": null,
      "outputs": []
    },
    {
      "cell_type": "code",
      "source": [
        "brr"
      ],
      "metadata": {
        "colab": {
          "base_uri": "https://localhost:8080/"
        },
        "id": "bzJ663OymprE",
        "outputId": "3d88e0d7-daa7-4931-c61c-29dc41cde850"
      },
      "execution_count": null,
      "outputs": [
        {
          "output_type": "execute_result",
          "data": {
            "text/plain": [
              "[1,\n",
              " 3,\n",
              " 5,\n",
              " 7,\n",
              " 9,\n",
              " 11,\n",
              " 13,\n",
              " 15,\n",
              " 17,\n",
              " 19,\n",
              " 21,\n",
              " 23,\n",
              " 25,\n",
              " 27,\n",
              " 29,\n",
              " 31,\n",
              " 33,\n",
              " 35,\n",
              " 37,\n",
              " 39,\n",
              " 41,\n",
              " 43,\n",
              " 45,\n",
              " 47,\n",
              " 49,\n",
              " 51,\n",
              " 53,\n",
              " 55,\n",
              " 57,\n",
              " 59,\n",
              " 61,\n",
              " 63,\n",
              " 65,\n",
              " 67,\n",
              " 69,\n",
              " 71,\n",
              " 73,\n",
              " 75,\n",
              " 77,\n",
              " 79,\n",
              " 81,\n",
              " 83,\n",
              " 85,\n",
              " 87,\n",
              " 89,\n",
              " 91,\n",
              " 93,\n",
              " 95,\n",
              " 97,\n",
              " 99]"
            ]
          },
          "metadata": {},
          "execution_count": 15
        }
      ]
    },
    {
      "cell_type": "code",
      "source": [
        "brr = [i for i in range(0,101) if i%2 == 0]"
      ],
      "metadata": {
        "id": "MxcGLB1amr_3"
      },
      "execution_count": null,
      "outputs": []
    },
    {
      "cell_type": "code",
      "source": [
        "brr"
      ],
      "metadata": {
        "colab": {
          "base_uri": "https://localhost:8080/"
        },
        "id": "Ea4uiUUIm4F7",
        "outputId": "d9a1d05c-64ad-487f-c18f-dd6a1279f9ff"
      },
      "execution_count": null,
      "outputs": [
        {
          "output_type": "execute_result",
          "data": {
            "text/plain": [
              "[0,\n",
              " 2,\n",
              " 4,\n",
              " 6,\n",
              " 8,\n",
              " 10,\n",
              " 12,\n",
              " 14,\n",
              " 16,\n",
              " 18,\n",
              " 20,\n",
              " 22,\n",
              " 24,\n",
              " 26,\n",
              " 28,\n",
              " 30,\n",
              " 32,\n",
              " 34,\n",
              " 36,\n",
              " 38,\n",
              " 40,\n",
              " 42,\n",
              " 44,\n",
              " 46,\n",
              " 48,\n",
              " 50,\n",
              " 52,\n",
              " 54,\n",
              " 56,\n",
              " 58,\n",
              " 60,\n",
              " 62,\n",
              " 64,\n",
              " 66,\n",
              " 68,\n",
              " 70,\n",
              " 72,\n",
              " 74,\n",
              " 76,\n",
              " 78,\n",
              " 80,\n",
              " 82,\n",
              " 84,\n",
              " 86,\n",
              " 88,\n",
              " 90,\n",
              " 92,\n",
              " 94,\n",
              " 96,\n",
              " 98,\n",
              " 100]"
            ]
          },
          "metadata": {},
          "execution_count": 17
        }
      ]
    },
    {
      "cell_type": "code",
      "source": [
        "fruits = [\"apple\",\"banana\",\"cherry\",\"kiwi\",\"mango\"]\n",
        "newlist = []\n",
        "for x in fruits:\n",
        "  if \"a\" in x:\n",
        "    newlist.append(x)\n",
        "print(newlist)"
      ],
      "metadata": {
        "colab": {
          "base_uri": "https://localhost:8080/"
        },
        "id": "FaByChdWm48u",
        "outputId": "e4eba3c9-456e-4a1b-b323-bde7b42fa3f9"
      },
      "execution_count": null,
      "outputs": [
        {
          "output_type": "stream",
          "name": "stdout",
          "text": [
            "['apple', 'banana', 'mango']\n"
          ]
        }
      ]
    },
    {
      "cell_type": "code",
      "source": [
        "fruit = [\"apple\",\"banana\",\"cherry\",\"kiwi\",\"mango\"]\n",
        "newlist = [x for x in fruits if x==\"mango\"] # list Comprehension\n",
        "print(newlist)"
      ],
      "metadata": {
        "colab": {
          "base_uri": "https://localhost:8080/"
        },
        "id": "L-GkHuK1nWxy",
        "outputId": "5864372b-ef83-456d-cb9d-6af24168518e"
      },
      "execution_count": null,
      "outputs": [
        {
          "output_type": "stream",
          "name": "stdout",
          "text": [
            "['mango']\n"
          ]
        }
      ]
    },
    {
      "cell_type": "markdown",
      "source": [
        "LIST -> DICT -> TUPLE -> SET\n",
        "\n",
        "(precedence)"
      ],
      "metadata": {
        "id": "bjXiw5N9n_5T"
      }
    },
    {
      "cell_type": "markdown",
      "source": [
        "NESTED\n",
        "\n",
        "1. list in list\n",
        "2. dict in dic\n",
        "3. tuple in tuple\n",
        "4. loop in loop\n",
        "5. conditional satatement in cs"
      ],
      "metadata": {
        "id": "SIdxVemooZQo"
      }
    },
    {
      "cell_type": "code",
      "source": [
        "variable = \"Toy Story\"\n",
        "if \"Toy\" in variable:\n",
        "  print(\"Its is a toy\")\n",
        "else:\n",
        "  print(\"Its not a toy\")"
      ],
      "metadata": {
        "colab": {
          "base_uri": "https://localhost:8080/"
        },
        "id": "ECsk40mDoc5C",
        "outputId": "6caaf395-9b8d-40f5-d3fd-4774d8775add"
      },
      "execution_count": null,
      "outputs": [
        {
          "output_type": "stream",
          "name": "stdout",
          "text": [
            "Its is a toy\n"
          ]
        }
      ]
    },
    {
      "cell_type": "code",
      "source": [
        "variable = 5000\n",
        "if variable >1000: #first statement is true which why we can access the next cs\n",
        "  if variable <10000:\n",
        "    if variable == 5000:\n",
        "      print(\"OKAYYIII\")\n",
        "    print(\"Yes, it is nested\")\n",
        "  print(\"Its not nested\")\n",
        "else:\n",
        "  print(\"I'm wrong\")"
      ],
      "metadata": {
        "colab": {
          "base_uri": "https://localhost:8080/"
        },
        "id": "8CSAzbskpY3A",
        "outputId": "70145f8b-41bc-4752-ad7e-f876eb85eecd"
      },
      "execution_count": null,
      "outputs": [
        {
          "output_type": "stream",
          "name": "stdout",
          "text": [
            "OKAYYIII\n",
            "Yes, it is nested\n",
            "Its not nested\n"
          ]
        }
      ]
    },
    {
      "cell_type": "code",
      "source": [
        "for i in range(5):\n",
        "  for j in range(5):\n",
        "    print(j)"
      ],
      "metadata": {
        "colab": {
          "base_uri": "https://localhost:8080/"
        },
        "id": "c2igS4pdqqFE",
        "outputId": "b76b5df9-450d-4588-9929-1300457f111d"
      },
      "execution_count": null,
      "outputs": [
        {
          "output_type": "stream",
          "name": "stdout",
          "text": [
            "0\n",
            "1\n",
            "2\n",
            "3\n",
            "4\n",
            "0\n",
            "1\n",
            "2\n",
            "3\n",
            "4\n",
            "0\n",
            "1\n",
            "2\n",
            "3\n",
            "4\n",
            "0\n",
            "1\n",
            "2\n",
            "3\n",
            "4\n",
            "0\n",
            "1\n",
            "2\n",
            "3\n",
            "4\n"
          ]
        }
      ]
    },
    {
      "cell_type": "code",
      "source": [
        "fruits =[\"apples\",\"mangoes\",\"bananas\",\"oranges\"]\n",
        "qauntity = [5,10,15,20]\n",
        "final = {}\n",
        "for i in fruits:\n",
        "  for j in qauntity:\n",
        "    final[i] = j\n",
        "\n",
        "print(final)"
      ],
      "metadata": {
        "colab": {
          "base_uri": "https://localhost:8080/"
        },
        "id": "xmxNf-mEsFVJ",
        "outputId": "c04d89ca-d745-421a-cb82-3df4b26e5b7e"
      },
      "execution_count": null,
      "outputs": [
        {
          "output_type": "stream",
          "name": "stdout",
          "text": [
            "{'apples': 20, 'mangoes': 20, 'bananas': 20, 'oranges': 20}\n"
          ]
        }
      ]
    },
    {
      "cell_type": "code",
      "source": [
        "fine = zip(fruits,qauntity)"
      ],
      "metadata": {
        "id": "9ceyhRnrwtEz"
      },
      "execution_count": null,
      "outputs": []
    },
    {
      "cell_type": "code",
      "source": [
        "for i,j in fine:\n",
        "  print(i,j)"
      ],
      "metadata": {
        "colab": {
          "base_uri": "https://localhost:8080/"
        },
        "id": "a1ve5dF5yc00",
        "outputId": "038aa123-93aa-462b-de63-9f8c0df3635c"
      },
      "execution_count": null,
      "outputs": [
        {
          "output_type": "stream",
          "name": "stdout",
          "text": [
            "apples 5\n",
            "mangoes 10\n",
            "bananas 15\n",
            "oranges 20\n"
          ]
        }
      ]
    },
    {
      "cell_type": "code",
      "source": [
        "for i,j in fine:\n",
        "  final[i] = j"
      ],
      "metadata": {
        "id": "agewOEd-ymdD"
      },
      "execution_count": null,
      "outputs": []
    },
    {
      "cell_type": "code",
      "source": [
        "final"
      ],
      "metadata": {
        "colab": {
          "base_uri": "https://localhost:8080/"
        },
        "id": "0utxppvdysTP",
        "outputId": "c5cc3b5f-128f-49f0-cff9-48bcaee9d5d1"
      },
      "execution_count": null,
      "outputs": [
        {
          "output_type": "execute_result",
          "data": {
            "text/plain": [
              "{'apples': 20, 'mangoes': 20, 'bananas': 20, 'oranges': 20}"
            ]
          },
          "metadata": {},
          "execution_count": 31
        }
      ]
    },
    {
      "cell_type": "code",
      "source": [],
      "metadata": {
        "id": "qxPvvbEDytMC"
      },
      "execution_count": null,
      "outputs": []
    }
  ]
}